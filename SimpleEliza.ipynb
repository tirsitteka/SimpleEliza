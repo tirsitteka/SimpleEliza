{
 "cells": [
  {
   "cell_type": "code",
   "execution_count": 1,
   "metadata": {},
   "outputs": [
    {
     "name": "stdout",
     "output_type": "stream",
     "text": [
      "\n",
      "Hello. How can I help you today? Enter your response here: \n",
      "(Enter 'q' when you are finished.)\tI'm not feeling well today\n",
      "I'm not feeling well today?\n",
      "\n",
      "Hello. How can I help you today? Enter your response here: \n",
      "(Enter 'q' when you are finished.)\tI feel tired\n",
      "I feel tired?\n",
      "\n",
      "Hello. How can I help you today? Enter your response here: \n",
      "(Enter 'q' when you are finished.)\tAnd I feel exausted\n",
      "And I feel exausted?\n",
      "\n",
      "Hello. How can I help you today? Enter your response here: \n",
      "(Enter 'q' when you are finished.)\tI'm feeling great\n",
      "I'm feeling great?\n",
      "\n",
      "Hello. How can I help you today? Enter your response here: \n",
      "(Enter 'q' when you are finished.)\tI am feeling great\n"
     ]
    }
   ],
   "source": [
    "prompt = \"\\nHello. How can I help you today? Enter your response here: \"\n",
    "prompt += \"\\n(Enter 'q' when you are finished.)\\t\"\n",
    "\n",
    "while True:\n",
    "    response = input(prompt)\n",
    "    \n",
    "    if (response == 'q') or (response == 'Q') or (response == 'I am feeling great') :\n",
    "        break\n",
    "    else:\n",
    "        print(response + \"?\")"
   ]
  }
 ],
 "metadata": {
  "kernelspec": {
   "display_name": "Python 3",
   "language": "python",
   "name": "python3"
  },
  "language_info": {
   "codemirror_mode": {
    "name": "ipython",
    "version": 3
   },
   "file_extension": ".py",
   "mimetype": "text/x-python",
   "name": "python",
   "nbconvert_exporter": "python",
   "pygments_lexer": "ipython3",
   "version": "3.7.3"
  }
 },
 "nbformat": 4,
 "nbformat_minor": 2
}
